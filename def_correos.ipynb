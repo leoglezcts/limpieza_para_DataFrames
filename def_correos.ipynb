{
 "cells": [
  {
   "cell_type": "markdown",
   "metadata": {},
   "source": [
    "**FUNCIÓN ULTIMATE**"
   ]
  },
  {
   "cell_type": "code",
   "execution_count": 2,
   "metadata": {},
   "outputs": [],
   "source": [
    "#Importación de librerias\n",
    "import pandas as pd \n",
    "import numpy as np\n",
    "import re\n",
    "import warnings"
   ]
  },
  {
   "cell_type": "markdown",
   "metadata": {},
   "source": [
    "**DECLARACIÓN DE FUNCIÓN**"
   ]
  },
  {
   "cell_type": "code",
   "execution_count": 3,
   "metadata": {},
   "outputs": [],
   "source": [
    "def limpiar_correos(input_csv, output_csv, correos_eliminados_csv, wrong_words_regex):\n",
    "    \"\"\"\n",
    "    Elimina correos electrónicos que contienen patrones no deseados (basados en regex) de un archivo CSV\n",
    "    y elimina duplicados en el campo 'EMAIL' cuya frecuencia sea mayor a 4.\n",
    "\n",
    "    Parámetros:\n",
    "    input_csv (str): Ruta del archivo CSV de entrada.\n",
    "    output_csv (str): Ruta del archivo CSV de salida.\n",
    "    correos_eliminados_csv (str): Ruta del archivo CSV donde se guardarán los correos eliminados.\n",
    "    wrong_words_regex (list): Lista de expresiones regulares con palabras o patrones a eliminar.\n",
    "\n",
    "    Retorna:\n",
    "    str: Mensaje de éxito.\n",
    "    \"\"\"\n",
    "    # Ignorar advertencias de grupos de captura en regex\n",
    "    warnings.filterwarnings(\"ignore\", category=UserWarning)\n",
    "    \n",
    "    # Cargar el archivo\n",
    "    df = pd.read_csv(input_csv, on_bad_lines='skip', low_memory=False, sep=\",\")\n",
    "\n",
    "    # Eliminar valores nulos en 'EMAIL'\n",
    "    print(\"SECCIÓN DE NULOS\")\n",
    "    print(f\"Número de registros antes de eliminar valores nulos en 'EMAIL': {len(df):,}\")\n",
    "    df.dropna(subset=['EMAIL'], inplace=True)\n",
    "    print(f\"Número de registros después de eliminar valores nulos en 'EMAIL':{len(df):,}\")\n",
    "    print()\n",
    "\n",
    "    # Limpiar la columna 'EMAIL'\n",
    "    df['EMAIL'] = df['EMAIL'].str.lower().str.strip().str.replace(' ', '')\n",
    "\n",
    "    # Filtrar correos no deseados usando regex\n",
    "    combined_regex = '|'.join(wrong_words_regex)\n",
    "    mask = df['EMAIL'].str.contains(combined_regex, regex=True)\n",
    "    correos_eliminados = df[mask]['EMAIL'].tolist()\n",
    "    df_clean = df[~mask]\n",
    "\n",
    "    # Eliminar duplicados con frecuencia mayor a 4\n",
    "    frecuencia_correos = df_clean.groupby('EMAIL').size()\n",
    "    correos_repetidos = frecuencia_correos[frecuencia_correos > 4].index\n",
    "    df_clean = df_clean[~df_clean['EMAIL'].isin(correos_repetidos)]\n",
    "\n",
    "    print(\"SECCIÓN DE REGISTROS CON FRECUENCIAS ALTAS\")\n",
    "    print(f\"Número de correos con frecuencia mayor a 4: {len(correos_repetidos):,}\")\n",
    "    print(f\"Número de filas eliminadas debido a duplicados con frecuencia mayor a 4: {len(df) - len(df_clean):,}\")\n",
    "    print()\n",
    "\n",
    "    # Limpiar la columna 'NOMBRES'\n",
    "    if 'NOMBRES' in df_clean.columns:\n",
    "        df_clean['NOMBRES'] = (\n",
    "            df_clean['NOMBRES']\n",
    "            .str.strip()\n",
    "            .replace(['', ' ', '  ', '   '], np.nan, regex=False)\n",
    "            .replace(r'[^a-zA-Z\\s]', np.nan, regex=True)\n",
    "            .replace('.', '')\n",
    "            .fillna('ESTIMADO')\n",
    "            .str.upper()\n",
    "            .str.split(\" \").str.get(0)\n",
    "            \n",
    "        )\n",
    "        # Remplazo de Marias \n",
    "        df_clean['NOMBRES'] = df_clean['NOMBRES'].replace('MA','MARIA')\n",
    "        # Guardar en una matriz booleana aquellos nombres =< a 2 \n",
    "        nombres_2_digitos = df_clean['NOMBRES'].astype('str').str.len() <= 2\n",
    "        # Hacer un replace con la matriz booleana usando el método .loc \n",
    "        df_clean.loc[nombres_2_digitos, 'NOMBRES'] = 'ESTIMADO'\n",
    "\n",
    "        # Sección de NOMBRES\n",
    "        print(\"SECCIÓN DE LLENADO DE NOMBRES VACÍOS\")\n",
    "        nombres_vacios = (df_clean['NOMBRES'] == 'ESTIMADO').sum()\n",
    "        print(f\"Cantidad de nombres llenados con 'ESTIMADO': {nombres_vacios:,}\")\n",
    "        print()\n",
    "    else:\n",
    "        print(\"Error: La columna 'NOMBRES' no existe en el DataFrame.\")\n",
    "\n",
    "    # Eliminar registros REPEP\n",
    "    if 'FLG_REPEP' in df_clean.columns:\n",
    "        print('SECCIÓN DE REPEP')\n",
    "        print(f'El número de registros en el DataFrame antes de eliminar REPEP: {len(df_clean):,}')\n",
    "        repep = len(df_clean[df_clean['FLG_REPEP'] == 'Y'])\n",
    "        print(f'El número de registros REPEP es de: {repep:,}')\n",
    "        df_clean = df_clean[df_clean['FLG_REPEP'] != 'Y']\n",
    "        print(f'El número de registros en el DataFrame después de eliminar REPEP: {len(df_clean):,}')\n",
    "        print()\n",
    "    else:\n",
    "        print(\"Error: La columna 'FLG_REPEP' no existe en el DataFrame.\")\n",
    "        print()\n",
    "\n",
    "    # Eliminar duplicados\n",
    "    df_clean = df_clean.drop_duplicates()\n",
    "    # Guardar resultados\n",
    "    print(\"SECCIÓN DE CORREOS ELIMINADOS POR REGEX\")\n",
    "    print(f\"Número de correos eliminados por patrones no deseados: {len(correos_eliminados):,}\")\n",
    "\n",
    "    print()\n",
    "    print(f'El DataFrame limpio tiene: {len(df_clean):,} registros')\n",
    "\n",
    "    pd.DataFrame(correos_eliminados, columns=['Correo Eliminado']).to_csv(correos_eliminados_csv, index=False)\n",
    "    df_clean.to_csv(output_csv, index=False)\n",
    "\n",
    "    return 'Felicidades, has limpiado tu base con éxito'"
   ]
  },
  {
   "cell_type": "markdown",
   "metadata": {},
   "source": [
    "**LISTA REGEX**"
   ]
  },
  {
   "cell_type": "code",
   "execution_count": 4,
   "metadata": {},
   "outputs": [],
   "source": [
    "wrong_words_regex = [\n",
    "    # Errores de formato básico\n",
    "    r'@@',                               # Doble arroba\n",
    "    r'\\.\\.',                             # Doble punto\n",
    "    r'\\.com@',                           # \".com\" seguido de arroba\n",
    "    r'[\\+\\&:,\"\\' ]',                     # Caracteres especiales o espacios\n",
    "    r'ñ',                                # Caracter \"ñ\"\n",
    "    r'^[._\\W]',                          # Correos que comienzan con punto, guion bajo o caracteres no alfanuméricos\n",
    "    r'\\.$',                              # Termina con un punto final\n",
    "    r'@.*@',                             # Múltiples @ no consecutivos\n",
    "    r'^[^@]*$',                          # No contiene @\n",
    "\n",
    "    # Errores tipográficos comunes\n",
    "    r'gm?ial|gnial|dumy|notene',         # Errores tipográficos comunes\n",
    "\n",
    "    # Dominios específicos a excluir\n",
    "    r'@(yopmail)',\n",
    "    r'@(anypsd)',\n",
    "    r'@(byom)',\n",
    "    r'@(amozix)',\n",
    "    r'@(psnator)',\n",
    "    r'@(freemail)',                                                                                                                                                                                                                                                                                                                                                                                                                                                                                                                                                                                                                                                                                                                                                                                                                                                                                                                                                                                                                                                                                                                                                                                                                                                                                                                                                                                                                                                                                                                              # Excluir solo el dominio \"yopmail\"\n",
    "\n",
    "    # Palabras genéricas o placeholders\n",
    "    r'(dummy|prueba|ejemplo|temporal)',  # Palabras genéricas o placeholders\n",
    "    r'\\bcorreoprueba\\b',                 # Placeholder \"correoprueba\"\n",
    "\n",
    "    # Frases que indican falta de correo (con variantes)\n",
    "    r'\\b(?:no[_.-]?tiene|sin[_.-]?correo|no[_.-]?tengo|no[_.-]?existe|no[_.-]?cuenta(?:con)?correo)\\b',  # Captura \"notiene\", \"no.tiene\", \"no_tiene\", etc.\n",
    "    r'\\b(?:no[_.-]?aplica|no[_.-]?maneja[_.-]?correo|no[_.-]?brinda|no[_.-]?asigna[_.-]?correo)\\b',      # Captura \"no.aplica\", \"no_maneja_correo\", etc.\n",
    "    r'\\b(?:no[_.-]?se[_.-]?lo[_.-]?sabe|no[_.-]?da|no[_.-]?desea|no[_.-]?dejo)\\b',                      # Captura \"no.se.lo.sabe\", \"no_da\", etc.\n",
    "\n",
    "    # Correos que comienzan con secuencias numéricas o letras específicas\n",
    "    r'^(1\\.21|1212|1122|121|12.1|1\\.2)', # Correos que juegan con la secuencia de números 1 y 2\n",
    "    r'^(618)',                           # Correos que juegan con la secuencia de números 6\n",
    "    r'^(123|1234|12345)@',               # Empieza con 123@ (ampliado)\n",
    "    r'^[zZ]+@',                          # Correos que solo contienen z antes del @ (ampliado)\n",
    "\n",
    "    # Correos que comienzan con palabras o frases específicas\n",
    "    r'^(sinusuario|demientras|notengo|virtual|facturas[-_]?izzi|cliente(?:nuevo|izzi)|izzi|aaa|om|lacasadelbrujo|nohaycorreo|ninguno|001)@.*$',  # Placeholders combinados\n",
    "    r'^(manololo|sinmail|n|ngonzalez|generico|atencionalcliente|izzigenerico|p-ngonzalezg|a.empresarial)@.*$',  # Placeholders combinados\n",
    "    r'^(ventas\\d+clientes|xxx|generico\\d+)@.*$',  # Placeholders\n",
    "    r'^(jesus|jose)@.*$|^sincorreo\\d+@.*$',  # Nombres de técnicos\n",
    "    r'^(correo|123456|sin.correo|no.se.lo.sabe|wizzgenerico)@.*$',  # Placeholders\n",
    "    r'^(abc|abc123|atc|sincontacto|iz.z.ot.el.e)@.*$',  # Placeholders\n",
    "\n",
    "    # Correos que contienen \"notiene\" en cualquier parte (con variantes)\n",
    "    r'[\\w.-]*no[_.-]?tiene[\\w.-]*@[\\w.-]*',  # Captura \"notiene\", \"no.tiene\", \"no_tiene\", etc., en cualquier parte del correo\n",
    "    r'@no[_.-]?tiene[\\w.-]*',                # Captura \"notiene\", \"no.tiene\", \"no_tiene\", etc., después del @\n",
    "\n",
    "    # Correos que comienzan con \"nocuenta\" o variantes\n",
    "    r'^(nocuenta[\\w-]+|nodejo[\\w-]+|noda[\\w-]+|nodesea[\\w-]+)@',  # No cuenta\n",
    "\n",
    "    # Correos con solo ceros o \"1\" antes del dominio\n",
    "    r'^(0+|1)@[a-zA-Z0-9.-]+\\.[a-zA-Z]{2,}$',\n",
    "\n",
    "    # Correos con 1 o 2 dígitos antes del @\n",
    "    r\"^[a-zA-Z0-9]{1,2}@[\\w.-]+\\.[a-zA-Z]{2,}$\",\n",
    "\n",
    "    # Eliminar cualquier cadena que contenga \"cliente\"\n",
    "    r'.*cliente.*'\n",
    "]"
   ]
  },
  {
   "cell_type": "markdown",
   "metadata": {},
   "source": [
    "**USO DE FUNCIÓN**"
   ]
  },
  {
   "cell_type": "code",
   "execution_count": 6,
   "metadata": {},
   "outputs": [
    {
     "name": "stdout",
     "output_type": "stream",
     "text": [
      "SECCIÓN DE NULOS\n",
      "Número de registros antes de eliminar valores nulos en 'EMAIL': 59,326\n"
     ]
    },
    {
     "ename": "KeyError",
     "evalue": "['EMAIL']",
     "output_type": "error",
     "traceback": [
      "\u001b[1;31m---------------------------------------------------------------------------\u001b[0m",
      "\u001b[1;31mKeyError\u001b[0m                                  Traceback (most recent call last)",
      "\u001b[1;32m~\\AppData\\Local\\Temp\\ipykernel_13080\\322471991.py\u001b[0m in \u001b[0;36m?\u001b[1;34m()\u001b[0m\n\u001b[1;32m----> 1\u001b[1;33m limpiar_correos(r\"C:\\Users\\lgonzalezc\\Documents\\Trabajo\\DB\\SKY SPORTS\\PREPAGO\\BASE PREPAGO\\Base_wa_activa_limpia.csv\",\n\u001b[0m\u001b[0;32m      2\u001b[0m                 \u001b[1;34mr\"C:\\Users\\lgonzalezc\\Documents\\Trabajo\\DB\\SKY SPORTS\\PREPAGO\\BASE PREPAGO\\Base_wa_activa_limpia_v2.csv\"\u001b[0m\u001b[1;33m,\u001b[0m\u001b[1;33m\u001b[0m\u001b[1;33m\u001b[0m\u001b[0m\n\u001b[0;32m      3\u001b[0m                 \u001b[1;34mr\"C:\\Users\\lgonzalezc\\Documents\\Trabajo\\DB\\SKY SPORTS\\PREPAGO\\BASE PREPAGO\\Base_wa_activa_limpia_ce.csv\"\u001b[0m\u001b[1;33m,\u001b[0m\u001b[1;33m\u001b[0m\u001b[1;33m\u001b[0m\u001b[0m\n\u001b[0;32m      4\u001b[0m                 \u001b[0mwrong_words_regex\u001b[0m\u001b[1;33m)\u001b[0m\u001b[1;33m\u001b[0m\u001b[1;33m\u001b[0m\u001b[0m\n",
      "\u001b[1;32m~\\AppData\\Local\\Temp\\ipykernel_13080\\352853352.py\u001b[0m in \u001b[0;36m?\u001b[1;34m(input_csv, output_csv, correos_eliminados_csv, wrong_words_regex)\u001b[0m\n\u001b[0;32m     20\u001b[0m \u001b[1;33m\u001b[0m\u001b[0m\n\u001b[0;32m     21\u001b[0m     \u001b[1;31m# Eliminar valores nulos en 'EMAIL'\u001b[0m\u001b[1;33m\u001b[0m\u001b[1;33m\u001b[0m\u001b[0m\n\u001b[0;32m     22\u001b[0m     \u001b[0mprint\u001b[0m\u001b[1;33m(\u001b[0m\u001b[1;34m\"SECCIÓN DE NULOS\"\u001b[0m\u001b[1;33m)\u001b[0m\u001b[1;33m\u001b[0m\u001b[1;33m\u001b[0m\u001b[0m\n\u001b[0;32m     23\u001b[0m     \u001b[0mprint\u001b[0m\u001b[1;33m(\u001b[0m\u001b[1;33mf\"\u001b[0m\u001b[1;33mNúmero de registros antes de eliminar valores nulos en 'EMAIL': \u001b[0m\u001b[1;33m{\u001b[0m\u001b[0mlen\u001b[0m\u001b[1;33m(\u001b[0m\u001b[0mdf\u001b[0m\u001b[1;33m)\u001b[0m\u001b[1;33m:\u001b[0m\u001b[1;33m,\u001b[0m\u001b[1;33m}\u001b[0m\u001b[1;33m\"\u001b[0m\u001b[1;33m)\u001b[0m\u001b[1;33m\u001b[0m\u001b[1;33m\u001b[0m\u001b[0m\n\u001b[1;32m---> 24\u001b[1;33m     \u001b[0mdf\u001b[0m\u001b[1;33m.\u001b[0m\u001b[0mdropna\u001b[0m\u001b[1;33m(\u001b[0m\u001b[0msubset\u001b[0m\u001b[1;33m=\u001b[0m\u001b[1;33m[\u001b[0m\u001b[1;34m'EMAIL'\u001b[0m\u001b[1;33m]\u001b[0m\u001b[1;33m,\u001b[0m \u001b[0minplace\u001b[0m\u001b[1;33m=\u001b[0m\u001b[1;32mTrue\u001b[0m\u001b[1;33m)\u001b[0m\u001b[1;33m\u001b[0m\u001b[1;33m\u001b[0m\u001b[0m\n\u001b[0m\u001b[0;32m     25\u001b[0m     \u001b[0mprint\u001b[0m\u001b[1;33m(\u001b[0m\u001b[1;33mf\"\u001b[0m\u001b[1;33mNúmero de registros después de eliminar valores nulos en 'EMAIL':\u001b[0m\u001b[1;33m{\u001b[0m\u001b[0mlen\u001b[0m\u001b[1;33m(\u001b[0m\u001b[0mdf\u001b[0m\u001b[1;33m)\u001b[0m\u001b[1;33m:\u001b[0m\u001b[1;33m,\u001b[0m\u001b[1;33m}\u001b[0m\u001b[1;33m\"\u001b[0m\u001b[1;33m)\u001b[0m\u001b[1;33m\u001b[0m\u001b[1;33m\u001b[0m\u001b[0m\n\u001b[0;32m     26\u001b[0m     \u001b[0mprint\u001b[0m\u001b[1;33m(\u001b[0m\u001b[1;33m)\u001b[0m\u001b[1;33m\u001b[0m\u001b[1;33m\u001b[0m\u001b[0m\n\u001b[0;32m     27\u001b[0m \u001b[1;33m\u001b[0m\u001b[0m\n",
      "\u001b[1;32mc:\\Users\\lgonzalezc\\AppData\\Local\\Programs\\Python\\Python313\\Lib\\site-packages\\pandas\\core\\frame.py\u001b[0m in \u001b[0;36m?\u001b[1;34m(self, axis, how, thresh, subset, inplace, ignore_index)\u001b[0m\n\u001b[0;32m   6666\u001b[0m             \u001b[0max\u001b[0m \u001b[1;33m=\u001b[0m \u001b[0mself\u001b[0m\u001b[1;33m.\u001b[0m\u001b[0m_get_axis\u001b[0m\u001b[1;33m(\u001b[0m\u001b[0magg_axis\u001b[0m\u001b[1;33m)\u001b[0m\u001b[1;33m\u001b[0m\u001b[1;33m\u001b[0m\u001b[0m\n\u001b[0;32m   6667\u001b[0m             \u001b[0mindices\u001b[0m \u001b[1;33m=\u001b[0m \u001b[0max\u001b[0m\u001b[1;33m.\u001b[0m\u001b[0mget_indexer_for\u001b[0m\u001b[1;33m(\u001b[0m\u001b[0msubset\u001b[0m\u001b[1;33m)\u001b[0m\u001b[1;33m\u001b[0m\u001b[1;33m\u001b[0m\u001b[0m\n\u001b[0;32m   6668\u001b[0m             \u001b[0mcheck\u001b[0m \u001b[1;33m=\u001b[0m \u001b[0mindices\u001b[0m \u001b[1;33m==\u001b[0m \u001b[1;33m-\u001b[0m\u001b[1;36m1\u001b[0m\u001b[1;33m\u001b[0m\u001b[1;33m\u001b[0m\u001b[0m\n\u001b[0;32m   6669\u001b[0m             \u001b[1;32mif\u001b[0m \u001b[0mcheck\u001b[0m\u001b[1;33m.\u001b[0m\u001b[0many\u001b[0m\u001b[1;33m(\u001b[0m\u001b[1;33m)\u001b[0m\u001b[1;33m:\u001b[0m\u001b[1;33m\u001b[0m\u001b[1;33m\u001b[0m\u001b[0m\n\u001b[1;32m-> 6670\u001b[1;33m                 \u001b[1;32mraise\u001b[0m \u001b[0mKeyError\u001b[0m\u001b[1;33m(\u001b[0m\u001b[0mnp\u001b[0m\u001b[1;33m.\u001b[0m\u001b[0marray\u001b[0m\u001b[1;33m(\u001b[0m\u001b[0msubset\u001b[0m\u001b[1;33m)\u001b[0m\u001b[1;33m[\u001b[0m\u001b[0mcheck\u001b[0m\u001b[1;33m]\u001b[0m\u001b[1;33m.\u001b[0m\u001b[0mtolist\u001b[0m\u001b[1;33m(\u001b[0m\u001b[1;33m)\u001b[0m\u001b[1;33m)\u001b[0m\u001b[1;33m\u001b[0m\u001b[1;33m\u001b[0m\u001b[0m\n\u001b[0m\u001b[0;32m   6671\u001b[0m             \u001b[0magg_obj\u001b[0m \u001b[1;33m=\u001b[0m \u001b[0mself\u001b[0m\u001b[1;33m.\u001b[0m\u001b[0mtake\u001b[0m\u001b[1;33m(\u001b[0m\u001b[0mindices\u001b[0m\u001b[1;33m,\u001b[0m \u001b[0maxis\u001b[0m\u001b[1;33m=\u001b[0m\u001b[0magg_axis\u001b[0m\u001b[1;33m)\u001b[0m\u001b[1;33m\u001b[0m\u001b[1;33m\u001b[0m\u001b[0m\n\u001b[0;32m   6672\u001b[0m \u001b[1;33m\u001b[0m\u001b[0m\n\u001b[0;32m   6673\u001b[0m         \u001b[1;32mif\u001b[0m \u001b[0mthresh\u001b[0m \u001b[1;32mis\u001b[0m \u001b[1;32mnot\u001b[0m \u001b[0mlib\u001b[0m\u001b[1;33m.\u001b[0m\u001b[0mno_default\u001b[0m\u001b[1;33m:\u001b[0m\u001b[1;33m\u001b[0m\u001b[1;33m\u001b[0m\u001b[0m\n",
      "\u001b[1;31mKeyError\u001b[0m: ['EMAIL']"
     ]
    }
   ],
   "source": [
    "limpiar_correos(r\"C:\\Users\\lgonzalezc\\Documents\\Trabajo\\DB\\SKY SPORTS\\PREPAGO\\BASE PREPAGO\\Base_wa_activa_limpia.csv\",\n",
    "                r\"C:\\Users\\lgonzalezc\\Documents\\Trabajo\\DB\\SKY SPORTS\\PREPAGO\\BASE PREPAGO\\Base_wa_activa_limpia_v2.csv\",\n",
    "                r\"C:\\Users\\lgonzalezc\\Documents\\Trabajo\\DB\\SKY SPORTS\\PREPAGO\\BASE PREPAGO\\Base_wa_activa_limpia_ce.csv\",\n",
    "                wrong_words_regex)"
   ]
  }
 ],
 "metadata": {
  "kernelspec": {
   "display_name": "Python 3",
   "language": "python",
   "name": "python3"
  },
  "language_info": {
   "codemirror_mode": {
    "name": "ipython",
    "version": 3
   },
   "file_extension": ".py",
   "mimetype": "text/x-python",
   "name": "python",
   "nbconvert_exporter": "python",
   "pygments_lexer": "ipython3",
   "version": "3.13.0"
  }
 },
 "nbformat": 4,
 "nbformat_minor": 2
}
