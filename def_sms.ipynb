{
 "cells": [
  {
   "cell_type": "markdown",
   "metadata": {},
   "source": [
    "# SMS"
   ]
  },
  {
   "cell_type": "markdown",
   "metadata": {},
   "source": [
    "Función para limpiar bases de datos de SMS:\n",
    "\n",
    "La función `def_sms` se encarga de limpiar y validar una base de datos de SMS, asegurando que los números de teléfono tengan 10 dígitos y que los nombres de los clientes no contengan caracteres especiales. A continuación, se detallan los pasos que realiza la función:\n",
    "\n",
    "1. **Lectura del archivo**:\n",
    "   - Lee un archivo CSV desde la ruta especificada y carga los datos en un DataFrame de pandas.\n",
    "   - Imprime la cantidad de registros antes de la limpieza.\n",
    "\n",
    "2. **Limpieza de la columna 'NOMBRES'**:\n",
    "   - Elimina espacios en blanco al inicio y al final de los nombres.\n",
    "   - Reemplaza nombres vacíos o con espacios por NaN.\n",
    "   - Elimina caracteres especiales y puntos.\n",
    "   - Rellena valores nulos con 'ESTIMADO'.\n",
    "   - Extrae el primer nombre en caso de nombres compuestos.\n",
    "   - Reemplaza 'MA' por 'MARIA'.\n",
    "   - Reemplaza nombres con dos o menos caracteres por 'ESTIMADO'.\n",
    "   - Imprime la cantidad de nombres que fueron llenados con 'ESTIMADO'.\n",
    "\n",
    "3. **Gestión de valores nulos**:\n",
    "   - Imprime la cantidad de registros nulos en la columna 'TELEFONO'.\n",
    "   - Elimina registros con valores nulos en 'TELEFONO'.\n",
    "   - Rellena valores nulos en 'NOMBRES' con 'ESTIMADO'.\n",
    "   - Imprime la cantidad de nombres que fueron llenados con 'ESTIMADO'.\n",
    "\n",
    "4. **Conversión de datos**:\n",
    "   - Convierte las columnas 'NOMBRES' y 'TELEFONO' a tipo string.\n",
    "\n",
    "5. **Eliminación de múltiples números celulares**:\n",
    "   - En caso de que una celda contenga múltiples números, conserva solo el primero.\n",
    "\n",
    "6. **Filtrado de números de teléfono**:\n",
    "   - Calcula y elimina registros con números de teléfono que no tienen 10 dígitos.\n",
    "   - Elimina registros con números de teléfono inválidos (como '0000000000', '1234567890', etc.).\n",
    "   - Identifica y elimina números de teléfono que aparecen con alta frecuencia (más de 5 veces).\n",
    "\n",
    "7. **Exportación de datos**:\n",
    "   - Guarda el DataFrame limpio en un archivo CSV en la ruta especificada.\n",
    "   - Guarda los registros con números inválidos en otro archivo CSV en la ruta especificada.\n",
    "   - Imprime la cantidad de registros después de la limpieza.\n",
    "\n",
    "La función devuelve un mensaje indicando que la limpieza de la base de datos de SMS se ha completado."
   ]
  },
  {
   "cell_type": "markdown",
   "metadata": {},
   "source": [
    "**Librerías**"
   ]
  },
  {
   "cell_type": "code",
   "execution_count": 17,
   "metadata": {},
   "outputs": [],
   "source": [
    "import pandas as pd\n",
    "import numpy as np\n",
    "import re"
   ]
  },
  {
   "cell_type": "markdown",
   "metadata": {},
   "source": [
    "**Declaración de Función Limpieza de SMS**"
   ]
  },
  {
   "cell_type": "code",
   "execution_count": 19,
   "metadata": {},
   "outputs": [],
   "source": [
    "def clean_sms_v3(file_path, output_path, wrong_numbers_path):\n",
    "    '''Función para limpiar bases de SMS: valida que los teléfonos tengan 10 dígitos\n",
    "    y los nombres de clientes no tengan caracteres especiales.'''\n",
    "    print(\"FUNCIÓN PARA LIMPIEZA DE BASES DE SMS\")\n",
    "    \n",
    "    df = pd.read_csv(file_path, low_memory=False)\n",
    "    print(f\"Tu DataFrame tiene: {len(df):,} registros antes de la limpieza\\n\")\n",
    "    # LIMPIEZA DE NOMBRES\n",
    "    if 'NOMBRES' in df.columns:\n",
    "        df['NOMBRES'] = (\n",
    "            df['NOMBRES']\n",
    "            .astype(str)\n",
    "            .str.strip()\n",
    "            .replace(['', ' ', '  ', '   '], np.nan, regex=False)\n",
    "            .str.replace(r'[^a-zA-Z\\s]', '', regex=True)\n",
    "            .fillna('ESTIMADO')\n",
    "            .str.extract(r'^(\\w+)', expand=False)\n",
    "        )\n",
    "        df['NOMBRES'] = df['NOMBRES'].replace('MA', 'MARIA')\n",
    "        df.loc[df['NOMBRES'].str.len() <= 2, 'NOMBRES'] = 'ESTIMADO'\n",
    "        print(\"SECCIÓN DE LLENADO DE NOMBRES VACÍOS\")\n",
    "        print(f\"Cantidad de nombres llenados con 'ESTIMADO': {(df['NOMBRES'] == 'ESTIMADO').sum():,}\\n\")\n",
    "    else:\n",
    "        print(\"Error: La columna 'NOMBRES' no existe en el DataFrame.\")\n",
    "    # NULOS EN TELÉFONO\n",
    "    print(\"SECCIÓN DE NULOS\")\n",
    "    nulos = df['TELEFONO'].isna().sum()\n",
    "    print(f\"Número de registros nulos eliminados en 'TELEFONO': {nulos:,}\\n\")\n",
    "    df.replace(\"\", np.nan, inplace=True)\n",
    "    df = df[df['TELEFONO'].notna()].reset_index(drop=True)\n",
    " \n",
    "    # LIMPIEZA DE TELÉFONO\n",
    "    df['TELEFONO'] = df['TELEFONO'].astype(str).str.split().str[0].str.strip()\n",
    "    df['TELEFONO'] = df['TELEFONO'].str.replace(r'\\.0$', '', regex=True)\n",
    "    df['LARGO'] = df['TELEFONO'].str.len()\n",
    "    invalid_length = df[df['LARGO'] != 10]\n",
    " \n",
    "    invalid_numbers = [\n",
    "        '0000000000','1111111111','2222222222','3333333333','4444444444',\n",
    "        '5555555555','6666666666','7777777777','8888888888','9999999999',\n",
    "        '1234567890','0987654321'\n",
    "    ]\n",
    " \n",
    "    tel_repetidos = df['TELEFONO'].value_counts().reset_index()\n",
    "    tel_repetidos.columns = ['TELEFONO', 'count']\n",
    "    filtro_por_frecuencia = tel_repetidos.query(\"count > 6\")['TELEFONO']\n",
    "    invalid_freq = df[df['TELEFONO'].isin(filtro_por_frecuencia)]\n",
    " \n",
    "    # Guardar antes de eliminar\n",
    "    registros_invalidos_lista = pd.concat([\n",
    "        df[df['TELEFONO'].isin(invalid_numbers)],\n",
    "        invalid_length,\n",
    "        invalid_freq\n",
    "    ])\n",
    " \n",
    "    # Filtrar válidos\n",
    "    df = df.query(\"LARGO == 10\")\n",
    "    df = df[~df['TELEFONO'].isin(invalid_numbers)]\n",
    "    df = df[~df['TELEFONO'].isin(filtro_por_frecuencia)]\n",
    "    df = df.drop_duplicates()\n",
    "    #df = df[['CUENTA','TELEFONO']]\n",
    " \n",
    "    # REPORTES\n",
    "    print(\"SECCIÓN DE NÚMEROS ERRÓNEOS\")\n",
    "    print(f\"Registros eliminados por longitud de teléfono diferente a diez: {len(invalid_length):,}\")\n",
    "    print(f\"Registros eliminados por coincidir con números inválidos: {len(df[df['TELEFONO'].isin(invalid_numbers)]):,}\")\n",
    "    print(f\"Números eliminados por coincidir con números con altas frecuencias: {len(filtro_por_frecuencia):,}\\n\")\n",
    " \n",
    "    # EXPORTAR\n",
    "    print(f\"Tu DataFrame tiene: {len(df):,} registros después de la limpieza\")\n",
    "    df.to_csv(output_path, index=False)\n",
    "    registros_invalidos_lista.to_csv(wrong_numbers_path, index=False)\n",
    " \n",
    "    return \"Limpieza completada. Registros válidos exportados.\""
   ]
  },
  {
   "cell_type": "markdown",
   "metadata": {},
   "source": [
    "**Aplicación**"
   ]
  },
  {
   "cell_type": "code",
   "execution_count": 20,
   "metadata": {},
   "outputs": [
    {
     "name": "stdout",
     "output_type": "stream",
     "text": [
      "FUNCIÓN PARA LIMPIEZA DE BASES DE SMS\n",
      "Tu DataFrame tiene: 59,326 registros antes de la limpieza\n",
      "\n",
      "SECCIÓN DE LLENADO DE NOMBRES VACÍOS\n",
      "Cantidad de nombres llenados con 'ESTIMADO': 233\n",
      "\n",
      "SECCIÓN DE NULOS\n",
      "Número de registros nulos eliminados en 'TELEFONO': 0\n",
      "\n",
      "SECCIÓN DE NÚMEROS ERRÓNEOS\n",
      "Registros eliminados por longitud de teléfono diferente a diez: 0\n",
      "Registros eliminados por coincidir con números inválidos: 0\n",
      "Números eliminados por coincidir con números con altas frecuencias: 2\n",
      "\n",
      "Tu DataFrame tiene: 59,286 registros después de la limpieza\n"
     ]
    },
    {
     "data": {
      "text/plain": [
       "'Limpieza completada. Registros válidos exportados.'"
      ]
     },
     "execution_count": 20,
     "metadata": {},
     "output_type": "execute_result"
    }
   ],
   "source": [
    "# Ejemplo de uso\n",
    "clean_sms_v3(r\"C:\\Users\\lgonzalezc\\Documents\\Trabajo\\DB\\SKY SPORTS\\PREPAGO\\BASE PREPAGO\\Base_wa_activa_limpia.csv\",\n",
    "          r\"C:\\Users\\lgonzalezc\\Documents\\Trabajo\\DB\\SKY SPORTS\\PREPAGO\\BASE PREPAGO\\Base_wa_activa_limpia_v2.csv\",\n",
    "          r\"C:\\Users\\lgonzalezc\\Documents\\Trabajo\\DB\\SKY SPORTS\\PREPAGO\\BASE PREPAGO\\Base_wa_activa_limpia c2.csv\")"
   ]
  }
 ],
 "metadata": {
  "kernelspec": {
   "display_name": "Python 3",
   "language": "python",
   "name": "python3"
  },
  "language_info": {
   "codemirror_mode": {
    "name": "ipython",
    "version": 3
   },
   "file_extension": ".py",
   "mimetype": "text/x-python",
   "name": "python",
   "nbconvert_exporter": "python",
   "pygments_lexer": "ipython3",
   "version": "3.13.0"
  }
 },
 "nbformat": 4,
 "nbformat_minor": 2
}
