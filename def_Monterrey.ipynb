{
 "cells": [
  {
   "cell_type": "markdown",
   "metadata": {},
   "source": [
    "**FUNCIÓN PARA LOS NODOS DE MONTERREY**"
   ]
  },
  {
   "cell_type": "code",
   "execution_count": 1,
   "metadata": {},
   "outputs": [],
   "source": [
    "#IMPORTACIÓN DE LIBRERÍAS\n",
    "import pandas as pd"
   ]
  },
  {
   "cell_type": "code",
   "execution_count": 2,
   "metadata": {},
   "outputs": [],
   "source": [
    "def Monterrey (input_path,output_path_1,output_path_2,output_path_3,output_path_4,output_path_5):\n",
    "    \n",
    "    #BASE 1 \n",
    "    #Lectura de DataFrame\n",
    "    df = pd.read_csv(input_path, encoding = 'latin1', on_bad_lines = 'skip', low_memory=False)\n",
    "    #Filtrado para Monterrey\n",
    "    df_1 = df.query(\"HUB == 'MONTERREY'\").copy()\n",
    "    #Creación de nueva columan 'NOM'\n",
    "    df_1['NOM'] =  df_1 ['ID_TRANS'] + df_1 ['RAMA'] + df_1 ['NODO']\n",
    "    #Reacomodo de columna 'NOM' en la posición 9 con pop\n",
    "    df_1.insert(9,'NOM',df_1.pop('NOM'))\n",
    "    #Eliminaciónde campos sensibles\n",
    "    df_1_sin_campos_sensibles = df_1.drop(['TELEFONO_CELULAR_PRINCIPAL', 'TELEFONO_FIJO_PRINCIPAL', 'EMAIL',\n",
    "    'NOMBRE_PRINCIPAL_CLI', 'APE_PATERNO', 'APE_MATERNO'], axis= 1)\n",
    "    #Eliminar antiguos índices\n",
    "    df_1_sin_campos_sensibles.reset_index(drop= True,inplace = True)\n",
    "    #exportación de primera base\n",
    "    df_1_sin_campos_sensibles.to_csv(output_path_1,index=False)\n",
    "\n",
    "    \n",
    "\n",
    "\n",
    "    #BASE 2: 37 NODOS\n",
    "    #Declaración de lista\n",
    "    valores_isin_37 = [\n",
    "        'APOR10N03', 'APOR11N05', 'APOR6N02', 'APOR6N09', 'APOR7N07', 'CUMR13N07',\n",
    "        'CUMR14N02', 'CUMR15N23', 'CUMR15N24', 'CUMR15N27', 'CUMR1N11', 'CUMR21N07',\n",
    "        'CUMR21N13', 'CUMR22N02', 'CUMR22N04', 'CUMR22N23', 'CUMR23N09', 'CUMR23N10',\n",
    "        'CUMR3N03', 'CUMR3N10', 'CUMR6N08', 'JUAR10N11', 'JUAR12N19', 'JUAR12N20',\n",
    "        'JUAR4N14', 'MATR20N11', 'SCAR13N04', 'SCAR14N01', 'SCAR1N02', 'SCAR1N03',\n",
    "        'SCAR3N04', 'SCAR3N08', 'SCAR4N01', 'SCAR8N07', 'SNIR18N03', 'SNIR24N04',\n",
    "        'SNIR7N03'\n",
    "    ]\n",
    "    #Método isin para base 2\n",
    "    df_2 = df_1[df_1['NOM'].isin(valores_isin_37)]\n",
    "    #Eliminar campo EMAIL\n",
    "    df_2 = df_2.drop('EMAIL', axis = 1).reset_index(drop = True)\n",
    "    #Exportación de segunda base\n",
    "    df_2.to_csv(output_path_2,index=False)\n",
    "\n",
    "\n",
    "\n",
    "\n",
    "    #BASE 3: 30 NODOS\n",
    "    valores_isin_30 = [\n",
    "        'APOR10N02', 'APOR6N03', 'APOR6N08', 'APOR7N04', 'APOR8N01', 'CUMR17N12', \n",
    "        'CUMR1N12', 'CUMR20N33', 'CUMR21N20', 'CUMR22N18', 'CUMR22N20', 'CUMR23N08', \n",
    "        'CUMR3N11', 'CUMR3N13', 'CUMR3N14', 'GPAR9N07', 'JUAR10N02', 'JUAR12N10', \n",
    "        'JUAR15N01', 'JUAR15N02', 'JUAR15N04', 'JUAR15N11', 'JUAR15N12', 'JUAR15N14', \n",
    "        'JUAR3N03', 'LNCR17N12', 'SBAR15N01', 'SBAR3N04', 'SCAR6N09', 'SNIR10N26'\n",
    "    ]\n",
    "    #Método isin para base 3\n",
    "    df_3 = df_1[df_1['NOM'].isin(valores_isin_30)]\n",
    "    #Eliminar campo EMAIL\n",
    "    df_3 = df_3.drop('EMAIL', axis = 1).reset_index(drop = True)\n",
    "    #Exportación de tercera base\n",
    "    df_3.to_csv(output_path_3,index=False)\n",
    "\n",
    "\n",
    "\n",
    "\n",
    "    #BASE 4: 103 NODOS\n",
    "    valores_isin_103 = [\n",
    "    'APOR10N05', 'APOR10N07', 'APOR11N06', 'APOR11N08', 'APOR14N05', 'APOR14N07',\n",
    "    'APOR6N04', 'APOR6N05', 'APOR7N01', 'APOR7N08', 'APOR8N02', 'APOR8N04',\n",
    "    'CMYR3N05', 'CMYR6N05', 'CMYR6N07', 'CUMR10N03', 'CUMR12N05', 'CUMR15N08',\n",
    "    'CUMR15N22', 'CUMR15N26', 'CUMR16N13', 'CUMR17N03', 'CUMR17N09', 'CUMR18N24',\n",
    "    'CUMR20N20', 'CUMR20N28', 'CUMR20N29', 'CUMR20N30', 'CUMR20N34', 'CUMR21N09',\n",
    "    'CUMR21N10', 'CUMR21N15', 'CUMR21N17', 'CUMR22N05', 'CUMR22N08', 'CUMR22N21',\n",
    "    'CUMR22N22', 'CUMR23N02', 'CUMR23N03', 'CUMR23N06', 'CUMR23N07', 'CUMR23N12',\n",
    "    'CUMR3N02', 'CUMR5N08', 'CUMR6N06', 'CUMR6N09', 'CUMR6N10', 'CUMR6N13',\n",
    "    'GARR15N05', 'GARR6N03', 'GPAR16N01', 'GPAR17N06', 'GPAR18N03', 'GPAR1N03',\n",
    "    'GPAR2N05', 'GPAR5N04', 'GPAR5N08', 'GPAR5N09', 'GPAR6N04', 'GPAR6N06',\n",
    "    'GPAR8N08', 'HUIR12N02', 'HUIR12N05', 'HUIR21N04', 'JUAR10N04', 'JUAR15N05',\n",
    "    'JUAR15N15', 'JUAR15N16', 'JUAR4N04', 'LVDR11N03', 'LVDR13N18', 'MATR15N03',\n",
    "    'MATR15N07', 'MATR15N08', 'MATR17N01', 'MATR17N03', 'MATR17N06', 'MATR17N09',\n",
    "    'MATR20N14', 'SCAR12N01', 'SCAR12N02', 'SCAR12N03', 'SCAR1N04', 'SCAR3N06',\n",
    "    'SCAR4N02', 'SCAR4N06', 'SCAR4N08', 'SCAR5N05', 'SCAR5N06', 'SCAR8N06',\n",
    "    'SCAR8N09', 'SNIR13N05', 'SNIR17N10', 'SNIR17N11', 'SNIR19N03', 'SNIR19N04',\n",
    "    'SNIR19N06', 'SNIR21N06', 'SNIR24N05', 'SNIR5N09', 'SNIR5N10', 'SNIR7N04',\n",
    "    'VFUR5N07'\n",
    "    ]\n",
    "    #Método isin para base 4\n",
    "    df_4 = df_1[df_1['NOM'].isin(valores_isin_103)]\n",
    "    #Eliminar campo EMAIL\n",
    "    df_4 = df_4.drop('EMAIL', axis = 1).reset_index(drop = True)\n",
    "    #Exportación de segunda base\n",
    "    df_4.to_csv(output_path_4,index=False)\n",
    "\n",
    "\n",
    "\n",
    "    #BASE 5: 67 NODOS\n",
    "    valores_isin_67 = [\n",
    "    'SCAR9N08', 'LNCR6N05', 'GPAR18N04', 'GARR8N02', 'GARR8N04', 'HUIR29N01',\n",
    "    'LVDR20N05', 'SNIR24N03', 'HUIR5N07', 'GARR8N07', 'MATR12N02', 'HUIR9N24',\n",
    "    'MATR16N08', 'GPAR4N02', 'SCAR5N02', 'MATR25N05', 'SNIR17N05', 'LVDR21N06',\n",
    "    'GARR8N06', 'SCAR10N04', 'LVDR14N26', 'LVDR14N22', 'HUIR14N03', 'SCAR5N03',\n",
    "    'GARR6N01', 'APOR9N09', 'SBAR18N02', 'HUIR29N04', 'GARR7N09', 'LVDR14N24',\n",
    "    'GARR6N07', 'GARR7N01', 'CUMR20N21', 'SCAR13N01', 'JUAR9N02', 'GARR7N08',\n",
    "    'CUMR15N16', 'GARR8N05', 'SNIR5N11', 'GARR8N08', 'LNCR12N04', 'GARR6N04',\n",
    "    'APOR10N08', 'JUAR9N11', 'GARR6N05', 'GARR8N03', 'CUMR18N32', 'GARR8N09',\n",
    "    'CUMR20N32', 'LNCR6N04', 'GARR7N03', 'SCAR10N02', 'GARR6N02', 'APOR3N06',\n",
    "    'LVDR14N30', 'SCAR8N08', 'HUIR15N07', 'HUIR14N07', 'SCAR0N00', 'LNCR12N06',\n",
    "    'MATR8N02', 'HUIR14N08', 'HUIR17N16', 'LNCR16N06', 'CUMR5N10', 'GARR7N02',\n",
    "    'LNCR12N12'\n",
    "    ]\n",
    "    #Método isin para base 5\n",
    "    df_5 = df_1[df_1['NOM'].isin(valores_isin_67)]\n",
    "    #Eliminar campo EMAIL\n",
    "    df_5 = df_5.drop('EMAIL', axis = 1).reset_index(drop = True)\n",
    "    #Exportación de segunda base\n",
    "    df_5.to_csv(output_path_5,index=False)\n",
    "\n",
    "    return 'Felicidades has filtrado tus datos'\n"
   ]
  },
  {
   "cell_type": "markdown",
   "metadata": {},
   "source": [
    "**EJECUCIÓN DE FUNCIÓN**"
   ]
  },
  {
   "cell_type": "code",
   "execution_count": 3,
   "metadata": {},
   "outputs": [
    {
     "data": {
      "text/plain": [
       "'Felicidades has filtrado tus datos'"
      ]
     },
     "execution_count": 3,
     "metadata": {},
     "output_type": "execute_result"
    }
   ],
   "source": [
    "Monterrey(\n",
    "    r\"C:\\Users\\lgonzalezc\\Documents\\Trabajo\\MONTERREY\\2025\\Enero\\030124\\CCMKT260720211210_Gestion_cuentas_migracion 11.csv\",\n",
    "    r\"C:\\Users\\lgonzalezc\\Documents\\Trabajo\\MONTERREY\\2025\\Enero\\030124\\BD_FTTH_HUB_MONTERREY_030124.csv\",\n",
    "    r\"C:\\Users\\lgonzalezc\\Documents\\Trabajo\\MONTERREY\\2025\\Enero\\030124\\BD_37NODOS_030124.csv\",\n",
    "    r\"C:\\Users\\lgonzalezc\\Documents\\Trabajo\\MONTERREY\\2025\\Enero\\030124\\BD_30NODOS_030124.csv\",\n",
    "    r\"C:\\Users\\lgonzalezc\\Documents\\Trabajo\\MONTERREY\\2025\\Enero\\030124\\BD_103NODOS_030124.csv\",\n",
    "    r\"C:\\Users\\lgonzalezc\\Documents\\Trabajo\\MONTERREY\\2025\\Enero\\030124\\BD_67NODOS_030124.csv\"\n",
    ")"
   ]
  }
 ],
 "metadata": {
  "kernelspec": {
   "display_name": "Python 3",
   "language": "python",
   "name": "python3"
  },
  "language_info": {
   "codemirror_mode": {
    "name": "ipython",
    "version": 3
   },
   "file_extension": ".py",
   "mimetype": "text/x-python",
   "name": "python",
   "nbconvert_exporter": "python",
   "pygments_lexer": "ipython3",
   "version": "3.13.0"
  }
 },
 "nbformat": 4,
 "nbformat_minor": 2
}
