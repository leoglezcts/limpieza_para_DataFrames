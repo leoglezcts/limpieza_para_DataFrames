{
 "cells": [
  {
   "cell_type": "markdown",
   "metadata": {},
   "source": [
    "**Función para dividir una tabla y obtener una base para SMS y Email**"
   ]
  },
  {
   "cell_type": "code",
   "execution_count": null,
   "metadata": {},
   "outputs": [],
   "source": [
    "#librerias\n",
    "import pandas as pd"
   ]
  },
  {
   "cell_type": "markdown",
   "metadata": {},
   "source": [
    "**Función**"
   ]
  },
  {
   "cell_type": "code",
   "execution_count": 2,
   "metadata": {},
   "outputs": [],
   "source": [
    "def procesar_archivo(archivo_fuente, email_output, sms_output):\n",
    "    \"\"\"\n",
    "    Esta función procesa un archivo CSV para limpiar y filtrar nombres, \n",
    "    correos electrónicos y teléfonos, generando dos archivos: SMS.csv \n",
    "    con datos de teléfonos válidos y EMAIL.csv con correos válidos. \n",
    "    Los nombres se normalizan, los correos se limpian y convierten a \n",
    "    minúsculas, y los teléfonos se validan para asegurar que tengan 10\n",
    "    dígitos y no sean seriados. Finalmente, exporta los datos limpios a\n",
    "    los archivos correspondientes..\n",
    "    \"\"\"\n",
    "    # Cargar el archivo\n",
    "    df = pd.read_csv(archivo_fuente)\n",
    "    print(f\"Número total de registros en el archivo: {len(df)}\")\n",
    "    print()\n",
    "\n",
    "    # Limpiar la columna 'NOMBRES'\n",
    "    print(\"SECCIÓN DE LIMPIEZA DE NOMBRES\")\n",
    "    print(f\"Número de registros antes de limpiar 'NOMBRES': {len(df)}\")\n",
    "    df['NOMBRES'] = (\n",
    "        df['NOMBRES']\n",
    "        .fillna(\"ESTIMADO\")  # Llenar valores nulos con \"ESTIMADO\"\n",
    "        .astype(str)  # Asegurarse de que todos los valores sean strings\n",
    "        .str.strip()  # Eliminar espacios al inicio y final\n",
    "        .str.split(\" \").str[0]  # Tomar solo el primer nombre\n",
    "        .str.replace(r\"[^a-zA-Z]\", \"\", regex=True)  # Eliminar caracteres no alfabéticos\n",
    "        .replace(\"MA\", \"MARIA\")  # Reemplazar \"MA\" por \"MARIA\"\n",
    "    )\n",
    "    # Si el nombre es muy corto, reemplazarlo por \"ESTIMADO\"\n",
    "    df.loc[df['NOMBRES'].str.len() < 3, 'NOMBRES'] = \"ESTIMADO\"\n",
    "    print(f\"Número de nombres llenados con 'ESTIMADO': {(df['NOMBRES'] == 'ESTIMADO').sum()}\")\n",
    "    print(f\"Número de registros después de limpiar 'NOMBRES': {len(df)}\")\n",
    "    print()\n",
    "\n",
    "    # Limpiar la columna 'EMAIL'\n",
    "    print(\"SECCIÓN DE LIMPIEZA DE CORREOS\")\n",
    "    print(f\"Número de registros antes de limpiar 'EMAIL': {len(df)}\")\n",
    "    df['EMAIL'] = (\n",
    "        df['EMAIL']\n",
    "        .fillna(\"\")  # Llenar valores nulos con cadena vacía\n",
    "        .astype(str)  # Asegurarse de que todos los valores sean strings\n",
    "        .str.strip()  # Eliminar espacios al inicio y final\n",
    "        .str.lower()  # Convertir a minúsculas\n",
    "        .str.replace(\" \", \"\")  # Eliminar espacios intermedios\n",
    "    )\n",
    "    # Filtrar solo correos no vacíos\n",
    "    df = df[df['EMAIL'] != \"\"]\n",
    "    print(f\"Número de registros después de limpiar 'EMAIL': {len(df)}\")\n",
    "    print()\n",
    "\n",
    "    # Crear DataFrame SMS\n",
    "    print(\"SECCIÓN DE CREACIÓN DE TABLA SMS\")\n",
    "    df_sms = df[['CUENTA', 'NOMBRES', 'TELEFONO']].copy()\n",
    "    print(f\"Número de registros antes de filtrar teléfonos: {len(df_sms)}\")\n",
    "    # Aplicar split en la columna 'TELEFONO' y tomar solo la primera parte\n",
    "    df_sms['TELEFONO'] = df_sms['TELEFONO'].astype(str).str.split(\" \").str[0]\n",
    "\n",
    "    # Filtrar teléfonos válidos (10 dígitos y no seriados)\n",
    "    df_sms = df_sms[\n",
    "        (df_sms['TELEFONO'].str.len() == 10) &  # Teléfonos de 10 dígitos\n",
    "        (~df_sms['TELEFONO'].str.fullmatch(r'(\\d)\\1{9}'))  # No teléfonos seriados\n",
    "    ]\n",
    "    print(f\"Número de registros después de filtrar teléfonos: {len(df_sms)}\")\n",
    "    print()\n",
    "\n",
    "    # Crear DataFrame EMAIL\n",
    "    print(\"SECCIÓN DE CREACIÓN DE TABLA EMAIL\")\n",
    "    df_email = df[['CUENTA', 'NOMBRES', 'EMAIL']].copy()\n",
    "    print(f\"Número de registros antes de filtrar correos: {len(df_email)}\")\n",
    "    # Filtrar solo correos no vacíos\n",
    "    df_email = df_email[df_email['EMAIL'] != \"\"]\n",
    "    print(f\"Número de registros después de filtrar correos: {len(df_email)}\")\n",
    "    print()\n",
    "\n",
    "    # Exportar archivos\n",
    "    df_sms.to_csv(sms_output, index=False)\n",
    "    df_email.to_csv(email_output, index=False)\n",
    "\n",
    "    print(\"Archivos SMS.csv y EMAIL.csv generados correctamente.\")"
   ]
  },
  {
   "cell_type": "markdown",
   "metadata": {},
   "source": [
    "**Uso**"
   ]
  },
  {
   "cell_type": "code",
   "execution_count": 3,
   "metadata": {},
   "outputs": [
    {
     "ename": "SyntaxError",
     "evalue": "invalid syntax (2444976922.py, line 1)",
     "output_type": "error",
     "traceback": [
      "\u001b[1;36m  Cell \u001b[1;32mIn[3], line 1\u001b[1;36m\u001b[0m\n\u001b[1;33m    **Uso**\u001b[0m\n\u001b[1;37m    ^\u001b[0m\n\u001b[1;31mSyntaxError\u001b[0m\u001b[1;31m:\u001b[0m invalid syntax\n"
     ]
    }
   ],
   "source": [
    "# Uso de la función\n",
    "procesar_archivo(\n",
    "    r'C:\\Users\\lgonzalezc\\Documents\\Trabajo\\DB\\DOMICILIACION 200\\BASE_EXTRA\\Base extra cobranza.csv',\n",
    "    r'C:\\Users\\lgonzalezc\\Documents\\Trabajo\\DB\\DOMICILIACION 200\\BASE_EXTRA\\bd_sms.csv',\n",
    "    r'C:\\Users\\lgonzalezc\\Documents\\Trabajo\\DB\\DOMICILIACION 200\\BASE_EXTRA\\bd_email.csv'\n",
    ")"
   ]
  }
 ],
 "metadata": {
  "kernelspec": {
   "display_name": "Python 3",
   "language": "python",
   "name": "python3"
  },
  "language_info": {
   "codemirror_mode": {
    "name": "ipython",
    "version": 3
   },
   "file_extension": ".py",
   "mimetype": "text/x-python",
   "name": "python",
   "nbconvert_exporter": "python",
   "pygments_lexer": "ipython3",
   "version": "3.13.0"
  }
 },
 "nbformat": 4,
 "nbformat_minor": 2
}
